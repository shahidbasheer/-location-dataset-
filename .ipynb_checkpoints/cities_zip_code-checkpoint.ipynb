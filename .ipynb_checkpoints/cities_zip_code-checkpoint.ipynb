{
 "cells": [
  {
   "cell_type": "code",
   "execution_count": 5,
   "id": "8c79ed87",
   "metadata": {},
   "outputs": [],
   "source": [
    "import matplotlib.pyplot as plt\n",
    "import pandas as pd\n",
    "import numpy as np\n"
   ]
  },
  {
   "cell_type": "code",
   "execution_count": 15,
   "id": "a20061a4",
   "metadata": {},
   "outputs": [
    {
     "data": {
      "text/html": [
       "<div>\n",
       "<style scoped>\n",
       "    .dataframe tbody tr th:only-of-type {\n",
       "        vertical-align: middle;\n",
       "    }\n",
       "\n",
       "    .dataframe tbody tr th {\n",
       "        vertical-align: top;\n",
       "    }\n",
       "\n",
       "    .dataframe thead th {\n",
       "        text-align: right;\n",
       "    }\n",
       "</style>\n",
       "<table border=\"1\" class=\"dataframe\">\n",
       "  <thead>\n",
       "    <tr style=\"text-align: right;\">\n",
       "      <th></th>\n",
       "      <th>sr</th>\n",
       "      <th>city</th>\n",
       "      <th>zip_code</th>\n",
       "      <th>state</th>\n",
       "      <th>state_code</th>\n",
       "      <th>country_code</th>\n",
       "      <th>coutry</th>\n",
       "      <th>latitude</th>\n",
       "      <th>longitude</th>\n",
       "    </tr>\n",
       "  </thead>\n",
       "  <tbody>\n",
       "    <tr>\n",
       "      <th>0</th>\n",
       "      <td>1</td>\n",
       "      <td>Ashkāsham</td>\n",
       "      <td>NaN</td>\n",
       "      <td>Badakhshan</td>\n",
       "      <td>BDS</td>\n",
       "      <td>AF</td>\n",
       "      <td>Afghanistan</td>\n",
       "      <td>36.68333</td>\n",
       "      <td>71.53333</td>\n",
       "    </tr>\n",
       "    <tr>\n",
       "      <th>1</th>\n",
       "      <td>2</td>\n",
       "      <td>Fayzabad</td>\n",
       "      <td>NaN</td>\n",
       "      <td>Badakhshan</td>\n",
       "      <td>BDS</td>\n",
       "      <td>AF</td>\n",
       "      <td>Afghanistan</td>\n",
       "      <td>37.11664</td>\n",
       "      <td>70.58002</td>\n",
       "    </tr>\n",
       "    <tr>\n",
       "      <th>2</th>\n",
       "      <td>3</td>\n",
       "      <td>Jurm</td>\n",
       "      <td>NaN</td>\n",
       "      <td>Badakhshan</td>\n",
       "      <td>BDS</td>\n",
       "      <td>AF</td>\n",
       "      <td>Afghanistan</td>\n",
       "      <td>36.86477</td>\n",
       "      <td>70.83421</td>\n",
       "    </tr>\n",
       "    <tr>\n",
       "      <th>3</th>\n",
       "      <td>4</td>\n",
       "      <td>Khandūd</td>\n",
       "      <td>NaN</td>\n",
       "      <td>Badakhshan</td>\n",
       "      <td>BDS</td>\n",
       "      <td>AF</td>\n",
       "      <td>Afghanistan</td>\n",
       "      <td>36.95127</td>\n",
       "      <td>72.31800</td>\n",
       "    </tr>\n",
       "    <tr>\n",
       "      <th>4</th>\n",
       "      <td>5</td>\n",
       "      <td>Rāghistān</td>\n",
       "      <td>NaN</td>\n",
       "      <td>Badakhshan</td>\n",
       "      <td>BDS</td>\n",
       "      <td>AF</td>\n",
       "      <td>Afghanistan</td>\n",
       "      <td>37.66079</td>\n",
       "      <td>70.67346</td>\n",
       "    </tr>\n",
       "  </tbody>\n",
       "</table>\n",
       "</div>"
      ],
      "text/plain": [
       "   sr       city zip_code       state state_code country_code       coutry  \\\n",
       "0   1  Ashkāsham      NaN  Badakhshan        BDS           AF  Afghanistan   \n",
       "1   2   Fayzabad      NaN  Badakhshan        BDS           AF  Afghanistan   \n",
       "2   3       Jurm      NaN  Badakhshan        BDS           AF  Afghanistan   \n",
       "3   4    Khandūd      NaN  Badakhshan        BDS           AF  Afghanistan   \n",
       "4   5  Rāghistān      NaN  Badakhshan        BDS           AF  Afghanistan   \n",
       "\n",
       "   latitude  longitude  \n",
       "0  36.68333   71.53333  \n",
       "1  37.11664   70.58002  \n",
       "2  36.86477   70.83421  \n",
       "3  36.95127   72.31800  \n",
       "4  37.66079   70.67346  "
      ]
     },
     "execution_count": 15,
     "metadata": {},
     "output_type": "execute_result"
    }
   ],
   "source": [
    "df = pd.read_csv(\"cities_compiled.csv\")\n",
    "\n",
    "df.head()"
   ]
  },
  {
   "cell_type": "code",
   "execution_count": 16,
   "id": "98ad996e",
   "metadata": {},
   "outputs": [
    {
     "data": {
      "text/html": [
       "<div>\n",
       "<style scoped>\n",
       "    .dataframe tbody tr th:only-of-type {\n",
       "        vertical-align: middle;\n",
       "    }\n",
       "\n",
       "    .dataframe tbody tr th {\n",
       "        vertical-align: top;\n",
       "    }\n",
       "\n",
       "    .dataframe thead th {\n",
       "        text-align: right;\n",
       "    }\n",
       "</style>\n",
       "<table border=\"1\" class=\"dataframe\">\n",
       "  <thead>\n",
       "    <tr style=\"text-align: right;\">\n",
       "      <th></th>\n",
       "      <th>sr</th>\n",
       "      <th>city</th>\n",
       "      <th>zip_code</th>\n",
       "      <th>state</th>\n",
       "      <th>state_code</th>\n",
       "      <th>country_code</th>\n",
       "      <th>coutry</th>\n",
       "      <th>latitude</th>\n",
       "      <th>longitude</th>\n",
       "    </tr>\n",
       "  </thead>\n",
       "  <tbody>\n",
       "    <tr>\n",
       "      <th>45871</th>\n",
       "      <td>45872</td>\n",
       "      <td>Bangalore Rural</td>\n",
       "      <td>NaN</td>\n",
       "      <td>Karnataka</td>\n",
       "      <td>KA</td>\n",
       "      <td>IN</td>\n",
       "      <td>India</td>\n",
       "      <td>13.22567</td>\n",
       "      <td>77.57501</td>\n",
       "    </tr>\n",
       "  </tbody>\n",
       "</table>\n",
       "</div>"
      ],
      "text/plain": [
       "          sr             city zip_code      state state_code country_code  \\\n",
       "45871  45872  Bangalore Rural      NaN  Karnataka         KA           IN   \n",
       "\n",
       "      coutry  latitude  longitude  \n",
       "45871  India  13.22567   77.57501  "
      ]
     },
     "execution_count": 16,
     "metadata": {},
     "output_type": "execute_result"
    }
   ],
   "source": [
    "df.loc[df['city'] == \"Bangalore Rural\"]"
   ]
  },
  {
   "cell_type": "code",
   "execution_count": 31,
   "id": "d9df3536",
   "metadata": {},
   "outputs": [
    {
     "name": "stdout",
     "output_type": "stream",
     "text": [
      "total cities 147399\n",
      "zip code missing for 68856 \n"
     ]
    }
   ],
   "source": [
    "print( f'total cities {df.shape[0]}' )\n",
    "print( f'zip code missing for {df[\"zip_code\"].isna().sum()} ')\n",
    "\n"
   ]
  },
  {
   "cell_type": "code",
   "execution_count": 10,
   "id": "bfa0a148",
   "metadata": {},
   "outputs": [
    {
     "name": "stdout",
     "output_type": "stream",
     "text": [
      "<class 'pandas.core.frame.DataFrame'>\n",
      "RangeIndex: 147399 entries, 0 to 147398\n",
      "Data columns (total 9 columns):\n",
      " #   Column        Non-Null Count   Dtype  \n",
      "---  ------        --------------   -----  \n",
      " 0   sr            147399 non-null  int64  \n",
      " 1   city          147399 non-null  object \n",
      " 2   zip_code      78543 non-null   object \n",
      " 3   state         147399 non-null  object \n",
      " 4   state_code    147384 non-null  object \n",
      " 5   country_code  147351 non-null  object \n",
      " 6   coutry        147399 non-null  object \n",
      " 7   latitude      147399 non-null  float64\n",
      " 8   longitude     147399 non-null  float64\n",
      "dtypes: float64(2), int64(1), object(6)\n",
      "memory usage: 10.1+ MB\n"
     ]
    }
   ],
   "source": [
    "df.info()"
   ]
  },
  {
   "cell_type": "code",
   "execution_count": null,
   "id": "d8cda618",
   "metadata": {},
   "outputs": [],
   "source": []
  }
 ],
 "metadata": {
  "kernelspec": {
   "display_name": "Python 3 (ipykernel)",
   "language": "python",
   "name": "python3"
  },
  "language_info": {
   "codemirror_mode": {
    "name": "ipython",
    "version": 3
   },
   "file_extension": ".py",
   "mimetype": "text/x-python",
   "name": "python",
   "nbconvert_exporter": "python",
   "pygments_lexer": "ipython3",
   "version": "3.8.10"
  }
 },
 "nbformat": 4,
 "nbformat_minor": 5
}
